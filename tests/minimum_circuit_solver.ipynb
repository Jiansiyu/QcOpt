{
 "cells": [
  {
   "cell_type": "code",
   "execution_count": 1,
   "metadata": {
    "collapsed": true
   },
   "outputs": [],
   "source": [
    "from quantumc_optimizer import permutationsolver\n",
    "from quantumc_optimizer import quantumCircuit\n",
    "from quantumc_optimizer import Optimizer"
   ]
  },
  {
   "cell_type": "markdown",
   "source": [
    "### Step.1 Load the circuit want to profile"
   ],
   "metadata": {
    "collapsed": false,
    "pycharm": {
     "name": "#%% md\n"
    }
   },
   "execution_count": 2
  },
  {
   "cell_type": "code",
   "execution_count": 2,
   "outputs": [
    {
     "data": {
      "text/plain": "<Figure size 432x288 with 1 Axes>",
      "image/png": "[encoded data removed]"
     },
     "metadata": {},
     "output_type": "display_data"
    }
   ],
   "source": [
    "cirname = \"quantumc_testA\"\n",
    "belem = quantumCircuit.custmized_circuit(circuitname=cirname)\n",
    "belem.draw()"
   ],
   "metadata": {
    "collapsed": false,
    "pycharm": {
     "name": "#%%\n"
    }
   }
  },
  {
   "cell_type": "markdown",
   "source": [
    "### Step.2 Load the permutation solver"
   ],
   "metadata": {
    "collapsed": false,
    "pycharm": {
     "name": "#%% md\n"
    }
   }
  },
  {
   "cell_type": "code",
   "execution_count": 5,
   "outputs": [
    {
     "data": {
      "text/plain": "6"
     },
     "execution_count": 5,
     "metadata": {},
     "output_type": "execute_result"
    }
   ],
   "source": [
    "psolver = permutationsolver.PermutationSolver(qcircuit=belem)\n",
    "psolver.n_qubit"
   ],
   "metadata": {
    "collapsed": false,
    "pycharm": {
     "name": "#%%\n"
    }
   }
  },
  {
   "cell_type": "markdown",
   "source": [
    "### Step.3 Solve the result"
   ],
   "metadata": {
    "collapsed": false,
    "pycharm": {
     "name": "#%% md\n"
    }
   },
   "execution_count": 4
  },
  {
   "cell_type": "code",
   "execution_count": 6,
   "outputs": [
    {
     "name": "stdout",
     "output_type": "stream",
     "text": [
      "[]\n",
      "Itering 1\n",
      "Itering 2\n",
      "Itering 3\n",
      "Itering 4\n",
      "Itering 5\n",
      "Itering 6\n",
      "Itering 7\n",
      "Itering 8\n",
      "Itering 9\n",
      "Itering 10\n",
      "Itering 11\n",
      "nQubit: 6.   iteration :11\n",
      "[[[0, 1, 2, 3, 4, 5], [1, 0, 2, 3, 4, 5], [1, 0, 3, 2, 4, 5], [0, 1, 3, 2, 4, 5], [0, 1, 3, 4, 2, 5], [0, 1, 4, 3, 2, 5], [1, 0, 4, 3, 2, 5], [1, 0, 4, 3, 5, 2], [1, 0, 4, 5, 3, 2], [1, 0, 5, 4, 3, 2], [0, 1, 5, 4, 3, 2]]]\n"
     ]
    }
   ],
   "source": [
    "opter = Optimizer.QcOptimizer(None,permutationsolver=psolver)\n",
    "maxIter, resultArray= opter.fullconnectionsolver()\n",
    "\n",
    "print(resultArray)"
   ],
   "metadata": {
    "collapsed": false,
    "pycharm": {
     "name": "#%%\n"
    }
   }
  }
 ],
 "metadata": {
  "kernelspec": {
   "display_name": "Python 3",
   "language": "python",
   "name": "python3"
  },
  "language_info": {
   "codemirror_mode": {
    "name": "ipython",
    "version": 2
   },
   "file_extension": ".py",
   "mimetype": "text/x-python",
   "name": "python",
   "nbconvert_exporter": "python",
   "pygments_lexer": "ipython2",
   "version": "2.7.6"
  }
 },
 "nbformat": 4,
 "nbformat_minor": 0
}