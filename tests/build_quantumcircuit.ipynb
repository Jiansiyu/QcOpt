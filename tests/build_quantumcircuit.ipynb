{
 "cells": [
  {
   "cell_type": "code",
   "execution_count": 2,
   "metadata": {},
   "outputs": [],
   "source": [
    "from quantumc_optimizer import quantumCircuit"
   ]
  },
  {
   "cell_type": "markdown",
   "metadata": {
    "pycharm": {
     "name": "#%% md\n"
    }
   },
   "source": [
    "## Build Quantum Circuit\n",
    "\n",
    "#### Example.1 how to write your own circuit\n",
    "\n",
    "This is an exmple of build **IBM santiago** quantum circuit. After save the circuit\n",
    "it will create and **YAML** file contains the circuit informations"
   ]
  },
  {
   "cell_type": "code",
   "execution_count": 2,
   "metadata": {
    "pycharm": {
     "name": "#%%\n"
    }
   },
   "outputs": [],
   "source": [
    "creater = quantumCircuit.ibmq_creater()\n",
    "connection = [[0, 1], [1, 0], [1, 2], [2, 1], [2, 3], [3, 2], [3, 4], [4, 3]]\n",
    "creater.create_circuit(name='ibmq_santiago',company='ibm',connection=connection,version='1.0.0')\n",
    "creater.savecircuit(\"../quantumc_optimizer/statics/circuit/ibmq_santiago.yaml\")"
   ]
  },
  {
   "cell_type": "code",
   "execution_count": 3,
   "metadata": {},
   "outputs": [],
   "source": [
    "creater = quantumCircuit.ibmq_creater()\n",
    "connection = [[0, 1], [1, 0], [1, 2], [2, 1], [2, 3], [3, 2], [3, 4], [4, 3]]\n",
    "creater.create_circuit(name='ibmq_belem',company='ibm',connection=connection,version='1.0.0')\n",
    "creater.savecircuit(\"../quantumc_optimizer/statics/circuit/ibmq_belem.yaml\")"
   ]
  },
  {
   "cell_type": "code",
   "execution_count": 3,
   "metadata": {},
   "outputs": [],
   "source": [
    "creater = quantumCircuit.ibmq_creater()\n",
    "connection = [[0, 1], [1, 0], [1, 2], [2, 1], [1, 3], [3, 1], [3, 5], [5, 3],[4,5],[5, 4], [5, 6], [6, 5]]\n",
    "creater.create_circuit(name='ibmq_jakarta',company='ibm',connection=connection,version='1.0.0')\n",
    "creater.savecircuit(\"../quantumc_optimizer/statics/circuit/ibmq_jakarta.yaml\")"
   ]
  },
  {
   "cell_type": "markdown",
   "metadata": {
    "pycharm": {
     "name": "#%% md\n"
    }
   },
   "source": [
    "#### build your own circuit\n",
    "\n",
    "* Example Build Circute Named \"testA\""
   ]
  },
  {
   "cell_type": "code",
   "execution_count": 10,
   "metadata": {
    "pycharm": {
     "name": "#%%\n"
    }
   },
   "outputs": [],
   "source": [
    "creater = quantumCircuit.ibmq_creater()\n",
    "connection = [[0, 1], [1, 0], [1, 2], [2, 1], [2, 3], [3, 2],[3,4],[4,3],[4,5],[5,4]]\n",
    "circuit_name = \"quantumc_testA\"\n",
    "creater.create_circuit(name=circuit_name,company='quantumc',connection=connection,version='1.0.0')\n",
    "creater.savecircuit(\"../quantumc_optimizer/statics/circuit/{}.yaml\".format(circuit_name))"
   ]
  },
  {
   "cell_type": "code",
   "execution_count": 6,
   "metadata": {},
   "outputs": [],
   "source": [
    "creater = quantumCircuit.ibmq_creater()\n",
    "connection = [[0, 1], [1, 0], [0, 2], [2, 0], [0, 3], [3, 0]]\n",
    "circuit_name = \"star_4\"\n",
    "creater.create_circuit(name=circuit_name,company='quantumc',connection=connection,version='1.0.0')\n",
    "creater.savecircuit(\"../quantumc_optimizer/statics/circuit/{}.yaml\".format(circuit_name))"
   ]
  },
  {
   "cell_type": "code",
   "execution_count": 8,
   "metadata": {},
   "outputs": [],
   "source": [
    "creater = quantumCircuit.ibmq_creater()\n",
    "connection = [[0, 1], [1, 0], [0, 2], [2, 0], [0, 3], [3, 0],[0, 4],[4,0]]\n",
    "circuit_name = \"star_5\"\n",
    "creater.create_circuit(name=circuit_name,company='quantumc',connection=connection,version='1.0.0')\n",
    "creater.savecircuit(\"../quantumc_optimizer/statics/circuit/{}.yaml\".format(circuit_name))"
   ]
  },
  {
   "cell_type": "code",
   "execution_count": 9,
   "metadata": {},
   "outputs": [],
   "source": [
    "creater = quantumCircuit.ibmq_creater()\n",
    "connection = [[0, 1], [1, 0], [0, 2], [2, 0], [0, 3], [3, 0],[0, 4],[4,0],[0, 5],[5, 0]]\n",
    "circuit_name = \"star_6\"\n",
    "creater.create_circuit(name=circuit_name,company='quantumc',connection=connection,version='1.0.0')\n",
    "creater.savecircuit(\"../quantumc_optimizer/statics/circuit/{}.yaml\".format(circuit_name))"
   ]
  },
  {
   "cell_type": "code",
   "execution_count": 11,
   "metadata": {},
   "outputs": [],
   "source": [
    "creater = quantumCircuit.ibmq_creater()\n",
    "connection = [[0, 1],[1, 0],[1, 2],[2, 1],[1, 3],[3, 1],[3, 4], [4, 3]]\n",
    "circuit_name = \"t_5\"\n",
    "creater.create_circuit(name=circuit_name,company='quantumc',connection=connection,version='1.0.0')\n",
    "creater.savecircuit(\"../quantumc_optimizer/statics/circuit/{}.yaml\".format(circuit_name))"
   ]
  },
  {
   "cell_type": "code",
   "execution_count": null,
   "metadata": {},
   "outputs": [],
   "source": [
    "creater = quantumCircuit.ibmq_creater()\n",
    "connection = [[0, 1], [1, 0], [0, 2], [2, 0], [0, 3], [3, 0],[0, 4],[4,0]]\n",
    "circuit_name = \"star_5\"\n",
    "creater.create_circuit(name=circuit_name,company='quantumc',connection=connection,version='1.0.0')\n",
    "creater.savecircuit(\"../quantumc_optimizer/statics/circuit/{}.yaml\".format(circuit_name))"
   ]
  },
  {
   "cell_type": "code",
   "execution_count": 12,
   "metadata": {},
   "outputs": [],
   "source": [
    "creater = quantumCircuit.ibmq_creater()\n",
    "connection = [[0, 1],[1, 0],[1, 2],[2, 1],[1, 3],[3, 1],[3, 4], [4, 3],[4, 5],[5, 4]]\n",
    "circuit_name = \"t_6\"\n",
    "creater.create_circuit(name=circuit_name,company='quantumc',connection=connection,version='1.0.0')\n",
    "creater.savecircuit(\"../quantumc_optimizer/statics/circuit/{}.yaml\".format(circuit_name))"
   ]
  },
  {
   "cell_type": "code",
   "execution_count": 13,
   "metadata": {},
   "outputs": [],
   "source": [
    "creater = quantumCircuit.ibmq_creater()\n",
    "connection = [[0, 1],[1, 0],[1, 2],[2, 1],[1, 3],[3, 1],[3, 4], [4, 3],[4, 5],[5, 4], [6,5],[5,6]]\n",
    "circuit_name = \"t_7\"\n",
    "creater.create_circuit(name=circuit_name,company='quantumc',connection=connection,version='1.0.0')\n",
    "creater.savecircuit(\"../quantumc_optimizer/statics/circuit/{}.yaml\".format(circuit_name))"
   ]
  },
  {
   "cell_type": "markdown",
   "metadata": {
    "pycharm": {
     "name": "#%% md\n"
    }
   },
   "source": []
  },
  {
   "cell_type": "code",
   "execution_count": 7,
   "metadata": {
    "pycharm": {
     "name": "#%% Check the circuit\n"
    }
   },
   "outputs": [
    {
     "data": {
      "image/png": "[encoded data removed]",
      "text/plain": [
       "<Figure size 432x288 with 1 Axes>"
      ]
     },
     "metadata": {},
     "output_type": "display_data"
    }
   ],
   "source": [
    "cir = quantumCircuit.custmized_circuit(circuitname='star_4')\n",
    "cir.draw()"
   ]
  },
  {
   "cell_type": "code",
   "execution_count": 12,
   "metadata": {
    "pycharm": {
     "name": "#%%\n"
    }
   },
   "outputs": [
    {
     "data": {
      "image/png": "[encoded data removed]",
      "text/plain": [
       "<Figure size 432x288 with 1 Axes>"
      ]
     },
     "metadata": {},
     "output_type": "display_data"
    }
   ],
   "source": [
    "cir = quantumCircuit.custmized_circuit(circuitname=circuit_name)\n",
    "cir.draw()"
   ]
  },
  {
   "cell_type": "markdown",
   "metadata": {
    "pycharm": {
     "name": "#%% md\n"
    }
   },
   "source": [
    "### Build any circuit other than the predefine IBM circuit"
   ]
  },
  {
   "cell_type": "code",
   "execution_count": null,
   "metadata": {
    "pycharm": {
     "name": "#%%\n"
    }
   },
   "outputs": [],
   "source": []
  },
  {
   "cell_type": "markdown",
   "metadata": {
    "pycharm": {
     "name": "#%% md\n"
    }
   },
   "source": [
    "### Load the circuit and visualize"
   ]
  },
  {
   "cell_type": "code",
   "execution_count": 5,
   "metadata": {
    "pycharm": {
     "name": "#%%\n"
    }
   },
   "outputs": [
    {
     "ename": "TypeError",
     "evalue": "draw() missing 1 required positional argument: 'self'",
     "output_type": "error",
     "traceback": [
      "\u001b[0;31m---------------------------------------------------------------------------\u001b[0m",
      "\u001b[0;31mTypeError\u001b[0m                                 Traceback (most recent call last)",
      "\u001b[0;32m/tmp/ipykernel_2290/3938671662.py\u001b[0m in \u001b[0;36m<module>\u001b[0;34m\u001b[0m\n\u001b[1;32m      1\u001b[0m \u001b[0msantiago\u001b[0m \u001b[0;34m=\u001b[0m \u001b[0mquantumCircuit\u001b[0m\u001b[0;34m.\u001b[0m\u001b[0mibmq_jakarta\u001b[0m\u001b[0;34m\u001b[0m\u001b[0;34m\u001b[0m\u001b[0m\n\u001b[0;32m----> 2\u001b[0;31m \u001b[0msantiago\u001b[0m\u001b[0;34m.\u001b[0m\u001b[0mdraw\u001b[0m\u001b[0;34m(\u001b[0m\u001b[0;34m)\u001b[0m\u001b[0;34m\u001b[0m\u001b[0;34m\u001b[0m\u001b[0m\n\u001b[0m",
      "\u001b[0;31mTypeError\u001b[0m: draw() missing 1 required positional argument: 'self'"
     ]
    }
   ],
   "source": [
    "santiago = quantumCircuit.ibmq_jakarta\n",
    "santiago.draw()"
   ]
  },
  {
   "cell_type": "code",
   "execution_count": null,
   "metadata": {},
   "outputs": [],
   "source": []
  }
 ],
 "metadata": {
  "kernelspec": {
   "display_name": "Python 3 (ipykernel)",
   "language": "python",
   "name": "python3"
  },
  "language_info": {
   "codemirror_mode": {
    "name": "ipython",
    "version": 3
   },
   "file_extension": ".py",
   "mimetype": "text/x-python",
   "name": "python",
   "nbconvert_exporter": "python",
   "pygments_lexer": "ipython3",
   "version": "3.9.6"
  }
 },
 "nbformat": 4,
 "nbformat_minor": 1
}
